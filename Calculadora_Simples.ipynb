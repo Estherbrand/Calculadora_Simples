{
  "nbformat": 4,
  "nbformat_minor": 0,
  "metadata": {
    "colab": {
      "provenance": [],
      "authorship_tag": "ABX9TyOG5GkPKt18t4BYKSW2Yjtc",
      "include_colab_link": true
    },
    "kernelspec": {
      "name": "python3",
      "display_name": "Python 3"
    },
    "language_info": {
      "name": "python"
    }
  },
  "cells": [
    {
      "cell_type": "markdown",
      "metadata": {
        "id": "view-in-github",
        "colab_type": "text"
      },
      "source": [
        "<a href=\"https://colab.research.google.com/github/Estherbrand/Calculadora_Simples/blob/main/Calculadora_Simples.ipynb\" target=\"_parent\"><img src=\"https://colab.research.google.com/assets/colab-badge.svg\" alt=\"Open In Colab\"/></a>"
      ]
    },
    {
      "cell_type": "code",
      "source": [
        "# Entrada dos valores\n",
        "while True:\n",
        "    Valor1 = float(input(\"Digite o primeiro valor: \"))\n",
        "    Valor2 = float(input(\"Digite o segundo valor: \"))\n",
        "\n",
        "    # Entrada da operação\n",
        "    print(\"Escolha a operação:\")\n",
        "    print(\"1. Adição\")\n",
        "    print(\"2. Subtração\")\n",
        "    print(\"3. Multiplicação\")\n",
        "    print(\"4. Divisão\")\n",
        "    operacao = input(\"Digite o número da operação que deseja realizar: \")\n",
        "\n",
        "    # Processo de acordo com a operação escolhida\n",
        "    if operacao == \"1\":\n",
        "        resultado = Valor1 + Valor2\n",
        "        operacao = \"adição\"\n",
        "    elif operacao == \"2\":\n",
        "        resultado = Valor1 - Valor2\n",
        "        operacao = \"subtração\"\n",
        "    elif operacao == \"3\":\n",
        "        resultado = Valor1 * Valor2\n",
        "        operacao = \"multiplicação\"\n",
        "    elif operacao == \"4\":\n",
        "        if Valor2 != 0:  # Irá verificar se o divisor é diferente de zero\n",
        "            resultado = Valor1 / Valor2\n",
        "            operacao = \"divisão\"\n",
        "        else:\n",
        "            resultado = \"Erro: Divisão por zero!\"\n",
        "            operacao = \"divisão\"\n",
        "    else:\n",
        "        resultado = \"Operação inválida!\"\n",
        "        operacao = \"desconhecida\"\n",
        "\n",
        "    #Saída das informações\n",
        "    print(f\"O resultado da {operacao} entre {Valor1} e {Valor2} é: {resultado}\")\n",
        "\n",
        "    # Caso queria realizar outra operação, o programa irá perguntar\n",
        "    repetir = input(\"Deseja realizar outra operação? (s/n): \")\n",
        "    if repetir.lower() != 's':\n",
        "        print(\"Saindo do programa. Até logo!\")\n",
        "        break\n",
        "\n"
      ],
      "metadata": {
        "id": "rGHbvDFVcGzy",
        "colab": {
          "base_uri": "https://localhost:8080/"
        },
        "outputId": "b161e57a-3223-47ee-b73f-ff0818968ffb"
      },
      "execution_count": null,
      "outputs": [
        {
          "output_type": "stream",
          "name": "stdout",
          "text": [
            "Digite o primeiro valor: 10\n",
            "Digite o segundo valor: 20\n",
            "Escolha a operação:\n",
            "1. Adição\n",
            "2. Subtração\n",
            "3. Multiplicação\n",
            "4. Divisão\n",
            "Digite o número da operação que deseja realizar: 3\n",
            "O resultado da multiplicação entre 10.0 e 20.0 é: 200.0\n",
            "Deseja realizar outra operação? (s/n): n\n",
            "Saindo do programa. Até logo!\n"
          ]
        }
      ]
    }
  ]
}